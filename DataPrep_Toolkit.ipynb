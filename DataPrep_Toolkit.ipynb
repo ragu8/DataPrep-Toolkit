{
 "cells": [
  {
   "cell_type": "markdown",
   "id": "47546a74-835f-425f-819a-9b14c29e3a4f",
   "metadata": {},
   "source": [
    "# Data cleaning and Preprocessing\n",
    "\n",
    "\n",
    "\n",
    "## Contents\n",
    "\n",
    "### 1. Introduction to Data Cleaning and Preprocessing\n",
    "- Python Libraries for Data Cleaning and Preprocessing\n",
    "\n",
    "### 2. Understanding Data Quality Issues\n",
    "- Identifying Common Data Quality Issues\n",
    "- Assessing Data Quality and Integrity\n",
    "- Exploratory Data Analysis (EDA) for Data Quality Assessment\n",
    "- Handling Duplicates and Redundant Data\n",
    "\n",
    "### 3. Handling Missing Data\n",
    "- Identifying and Understanding Missing Data\n",
    "- Techniques for Handling Missing Data\n",
    "- Introduction to Pandas for Missing Data Handling\n",
    "- Advanced Missing Data Handling Techniques\n",
    "\n",
    "### 4. Dealing with Outliers\n",
    "- Understanding Outliers and Their Impact\n",
    "- Outlier Detection Techniques\n",
    "- Strategies for Handling Outliers\n",
    "- Python Code Examples for Outlier Detection and Handling\n",
    "\n",
    "### 5. Data Normalization and Scaling\n",
    "- Understanding the Importance of Data Normalization and Scaling\n",
    "- Techniques for Data Normalization\n",
    "- Feature Scaling Techniques\n",
    "- Implementing Data Normalization and Scaling with Python\n",
    "\n",
    "### 6. Feature Selection and Extraction\n",
    "- Introduction to Feature Selection and Extraction\n",
    "- Techniques for Feature Selection\n",
    "- Feature Extraction Methods\n",
    "- Python Code Examples for Feature Selection and Extraction\n",
    "\n",
    "### 7. Encoding Categorical Variables\n",
    "- Understanding Categorical Variables and Their Challenges\n",
    "- Techniques for Categorical Variable Encoding\n",
    "- Dealing with High Cardinality and Rare Categories\n",
    "- Python Code Examples for Categorical Variable Encoding\n",
    "\n",
    "### 8. Handling Imbalanced Data\n",
    "- Understanding Imbalanced Data and Its Impact on Machine Learning\n",
    "- Techniques for Handling Imbalanced Classes\n",
    "- Python Code Examples for Handling Imbalanced Data\n",
    "\n",
    "### 9. Data Integration and Transformation Techniques\n",
    "- Data Integration Approaches\n",
    "- Data Transformation Techniques\n",
    "- Handling Skewed Distributions and Nonlinear Relationships\n"
   ]
  },
  {
   "cell_type": "markdown",
   "id": "db061761-0c72-4f23-983f-c0b0be3c35cf",
   "metadata": {
    "tags": []
   },
   "source": [
    "## 1. Python Libraries"
   ]
  },
  {
   "cell_type": "markdown",
   "id": "f55c06d7-ecb7-4589-a456-2518c01704e1",
   "metadata": {
    "tags": []
   },
   "source": [
    "#### Pandas"
   ]
  },
  {
   "cell_type": "code",
   "execution_count": 53,
   "id": "e379aeed-d521-4648-a433-1663d239bb27",
   "metadata": {},
   "outputs": [
    {
     "data": {
      "text/html": [
       "<div>\n",
       "<style scoped>\n",
       "    .dataframe tbody tr th:only-of-type {\n",
       "        vertical-align: middle;\n",
       "    }\n",
       "\n",
       "    .dataframe tbody tr th {\n",
       "        vertical-align: top;\n",
       "    }\n",
       "\n",
       "    .dataframe thead th {\n",
       "        text-align: right;\n",
       "    }\n",
       "</style>\n",
       "<table border=\"1\" class=\"dataframe\">\n",
       "  <thead>\n",
       "    <tr style=\"text-align: right;\">\n",
       "      <th></th>\n",
       "      <th>sepal.length</th>\n",
       "      <th>sepal.width</th>\n",
       "      <th>petal.length</th>\n",
       "      <th>petal.width</th>\n",
       "      <th>variety</th>\n",
       "    </tr>\n",
       "  </thead>\n",
       "  <tbody>\n",
       "    <tr>\n",
       "      <th>0</th>\n",
       "      <td>5.1</td>\n",
       "      <td>3.5</td>\n",
       "      <td>1.4</td>\n",
       "      <td>0.2</td>\n",
       "      <td>Setosa</td>\n",
       "    </tr>\n",
       "    <tr>\n",
       "      <th>1</th>\n",
       "      <td>4.9</td>\n",
       "      <td>3.0</td>\n",
       "      <td>1.4</td>\n",
       "      <td>0.2</td>\n",
       "      <td>Setosa</td>\n",
       "    </tr>\n",
       "    <tr>\n",
       "      <th>2</th>\n",
       "      <td>4.7</td>\n",
       "      <td>3.2</td>\n",
       "      <td>1.3</td>\n",
       "      <td>0.2</td>\n",
       "      <td>Setosa</td>\n",
       "    </tr>\n",
       "    <tr>\n",
       "      <th>3</th>\n",
       "      <td>4.6</td>\n",
       "      <td>3.1</td>\n",
       "      <td>1.5</td>\n",
       "      <td>0.2</td>\n",
       "      <td>Setosa</td>\n",
       "    </tr>\n",
       "    <tr>\n",
       "      <th>4</th>\n",
       "      <td>5.0</td>\n",
       "      <td>3.6</td>\n",
       "      <td>1.4</td>\n",
       "      <td>0.2</td>\n",
       "      <td>Setosa</td>\n",
       "    </tr>\n",
       "  </tbody>\n",
       "</table>\n",
       "</div>"
      ],
      "text/plain": [
       "   sepal.length  sepal.width  petal.length  petal.width variety\n",
       "0           5.1          3.5           1.4          0.2  Setosa\n",
       "1           4.9          3.0           1.4          0.2  Setosa\n",
       "2           4.7          3.2           1.3          0.2  Setosa\n",
       "3           4.6          3.1           1.5          0.2  Setosa\n",
       "4           5.0          3.6           1.4          0.2  Setosa"
      ]
     },
     "execution_count": 53,
     "metadata": {},
     "output_type": "execute_result"
    }
   ],
   "source": [
    "import pandas as pd\n",
    "df = pd.read_csv('https://raw.githubusercontent.com/ragu8/ESSENTIAL_TOOLS_FOR_WORKING_WITH_DATA/main/iris.csv')\n",
    "df.head()"
   ]
  },
  {
   "cell_type": "markdown",
   "id": "c38715b0-d7c9-4d4f-991a-45512b39cfc9",
   "metadata": {
    "tags": []
   },
   "source": [
    "#### Numpy"
   ]
  },
  {
   "cell_type": "code",
   "execution_count": 54,
   "id": "f08ae5a6-4b9e-477b-abfd-13fd9d3e784b",
   "metadata": {},
   "outputs": [
    {
     "name": "stdout",
     "output_type": "stream",
     "text": [
      "[2 4 6 8]\n"
     ]
    }
   ],
   "source": [
    "import numpy as np\n",
    "arr = np.array([1,2,3,4])\n",
    "print(arr*2)"
   ]
  },
  {
   "cell_type": "markdown",
   "id": "f3abff05-6b4b-462f-acfc-becb0eac76df",
   "metadata": {
    "tags": []
   },
   "source": [
    "#### Matplotlib"
   ]
  },
  {
   "cell_type": "code",
   "execution_count": 55,
   "id": "d50b2c61-c76f-49a5-9697-d2feb262744b",
   "metadata": {},
   "outputs": [
    {
     "data": {
      "image/png": "[encoded data removed]",
      "text/plain": [
       "<Figure size 640x480 with 1 Axes>"
      ]
     },
     "metadata": {},
     "output_type": "display_data"
    }
   ],
   "source": [
    "import matplotlib.pyplot as plt\n",
    "\n",
    "plt.plot([1,2,4,8,16,32])\n",
    "plt.title(\"line\")\n",
    "plt.xlabel(\"x\")\n",
    "plt.ylabel(\"y\")\n",
    "plt.show()"
   ]
  },
  {
   "cell_type": "markdown",
   "id": "2804173d-8463-4ac1-9f50-89be7e32d6a1",
   "metadata": {
    "tags": []
   },
   "source": [
    "#### Seaborn"
   ]
  },
  {
   "cell_type": "code",
   "execution_count": 56,
   "id": "bc7bc4c2-208e-4eb0-9b33-b5123a8c73f2",
   "metadata": {},
   "outputs": [
    {
     "data": {
      "image/png": "[encoded data removed]",
      "text/plain": [
       "<Figure size 640x480 with 1 Axes>"
      ]
     },
     "metadata": {},
     "output_type": "display_data"
    }
   ],
   "source": [
    "import seaborn as sns\n",
    "\n",
    "df = sns.load_dataset('tips')\n",
    "\n",
    "sns.histplot(df['total_bill'])\n",
    "plt.title(\"Histogram\")\n",
    "plt.show()"
   ]
  },
  {
   "cell_type": "markdown",
   "id": "9e5f0694-f88d-46af-b8c7-7f874644e45b",
   "metadata": {
    "tags": []
   },
   "source": [
    "#### Scikit-Learn"
   ]
  },
  {
   "cell_type": "code",
   "execution_count": 57,
   "id": "3c361a31-484f-4228-89f2-d28806771723",
   "metadata": {},
   "outputs": [],
   "source": [
    "from sklearn import datasets\n",
    "from sklearn.model_selection import train_test_split\n",
    "\n",
    "iris = datasets.load_iris()\n",
    "\n",
    "X = iris.data\n",
    "y = iris.target\n",
    "\n",
    "X_train, X_test , y_train, y_test = train_test_split(X,y, test_size=0.2)"
   ]
  },
  {
   "cell_type": "markdown",
   "id": "f4ff0c37-9417-4399-bb12-0fb9f2792f37",
   "metadata": {
    "tags": []
   },
   "source": [
    "## 2. Understanding Data Quality Issues"
   ]
  },
  {
   "cell_type": "markdown",
   "id": "5d27d0ce-decf-4318-97d1-00f5955a9367",
   "metadata": {
    "tags": []
   },
   "source": [
    "#### Missing Values"
   ]
  },
  {
   "cell_type": "code",
   "execution_count": 58,
   "id": "f8aa8cda-5986-45b1-acf4-c17303411ce3",
   "metadata": {},
   "outputs": [
    {
     "data": {
      "text/plain": [
       "total_bill    0\n",
       "tip           0\n",
       "sex           0\n",
       "smoker        0\n",
       "day           0\n",
       "time          0\n",
       "size          0\n",
       "dtype: int64"
      ]
     },
     "execution_count": 58,
     "metadata": {},
     "output_type": "execute_result"
    }
   ],
   "source": [
    "df = sns.load_dataset('tips')\n",
    "df.isnull().sum()"
   ]
  },
  {
   "cell_type": "markdown",
   "id": "e1b91d72-e15d-40ae-baf2-7c8675c35a46",
   "metadata": {
    "tags": []
   },
   "source": [
    "#### Outliners"
   ]
  },
  {
   "cell_type": "code",
   "execution_count": 59,
   "id": "b1d146c8-c153-4238-82e5-52a1ed968719",
   "metadata": {},
   "outputs": [
    {
     "data": {
      "image/png": "[encoded data removed]",
      "text/plain": [
       "<Figure size 640x480 with 1 Axes>"
      ]
     },
     "metadata": {},
     "output_type": "display_data"
    }
   ],
   "source": [
    "sns.boxplot(x=df['total_bill'])\n",
    "plt.show()"
   ]
  },
  {
   "cell_type": "markdown",
   "id": "41c822db-27e8-4140-8720-738e8995ce09",
   "metadata": {
    "tags": []
   },
   "source": [
    "#### Inconsistent Formatting"
   ]
  },
  {
   "cell_type": "code",
   "execution_count": 60,
   "id": "f0d65495-bc61-4db4-a3ec-4e94004c027a",
   "metadata": {},
   "outputs": [
    {
     "data": {
      "text/html": [
       "<div>\n",
       "<style scoped>\n",
       "    .dataframe tbody tr th:only-of-type {\n",
       "        vertical-align: middle;\n",
       "    }\n",
       "\n",
       "    .dataframe tbody tr th {\n",
       "        vertical-align: top;\n",
       "    }\n",
       "\n",
       "    .dataframe thead th {\n",
       "        text-align: right;\n",
       "    }\n",
       "</style>\n",
       "<table border=\"1\" class=\"dataframe\">\n",
       "  <thead>\n",
       "    <tr style=\"text-align: right;\">\n",
       "      <th></th>\n",
       "      <th>total_bill</th>\n",
       "      <th>tip</th>\n",
       "      <th>sex</th>\n",
       "      <th>smoker</th>\n",
       "      <th>day</th>\n",
       "      <th>time</th>\n",
       "      <th>size</th>\n",
       "    </tr>\n",
       "  </thead>\n",
       "  <tbody>\n",
       "    <tr>\n",
       "      <th>0</th>\n",
       "      <td>16.99</td>\n",
       "      <td>1.01</td>\n",
       "      <td>Female</td>\n",
       "      <td>No</td>\n",
       "      <td>Sun</td>\n",
       "      <td>Dinner</td>\n",
       "      <td>2</td>\n",
       "    </tr>\n",
       "    <tr>\n",
       "      <th>1</th>\n",
       "      <td>10.34</td>\n",
       "      <td>1.66</td>\n",
       "      <td>Male</td>\n",
       "      <td>No</td>\n",
       "      <td>Sun</td>\n",
       "      <td>Dinner</td>\n",
       "      <td>3</td>\n",
       "    </tr>\n",
       "    <tr>\n",
       "      <th>2</th>\n",
       "      <td>21.01</td>\n",
       "      <td>3.50</td>\n",
       "      <td>Male</td>\n",
       "      <td>No</td>\n",
       "      <td>Sun</td>\n",
       "      <td>Dinner</td>\n",
       "      <td>3</td>\n",
       "    </tr>\n",
       "    <tr>\n",
       "      <th>3</th>\n",
       "      <td>23.68</td>\n",
       "      <td>3.31</td>\n",
       "      <td>Male</td>\n",
       "      <td>No</td>\n",
       "      <td>Sun</td>\n",
       "      <td>Dinner</td>\n",
       "      <td>2</td>\n",
       "    </tr>\n",
       "    <tr>\n",
       "      <th>4</th>\n",
       "      <td>24.59</td>\n",
       "      <td>3.61</td>\n",
       "      <td>Female</td>\n",
       "      <td>No</td>\n",
       "      <td>Sun</td>\n",
       "      <td>Dinner</td>\n",
       "      <td>4</td>\n",
       "    </tr>\n",
       "  </tbody>\n",
       "</table>\n",
       "</div>"
      ],
      "text/plain": [
       "   total_bill   tip     sex smoker  day    time  size\n",
       "0       16.99  1.01  Female     No  Sun  Dinner     2\n",
       "1       10.34  1.66    Male     No  Sun  Dinner     3\n",
       "2       21.01  3.50    Male     No  Sun  Dinner     3\n",
       "3       23.68  3.31    Male     No  Sun  Dinner     2\n",
       "4       24.59  3.61  Female     No  Sun  Dinner     4"
      ]
     },
     "execution_count": 60,
     "metadata": {},
     "output_type": "execute_result"
    }
   ],
   "source": [
    "df[\"total_bill\"] = pd.to_numeric(df['total_bill'] , errors='coerce')\n",
    "df.head()"
   ]
  },
  {
   "cell_type": "markdown",
   "id": "67af9127-72c1-475a-84d9-8f55288a078b",
   "metadata": {
    "tags": []
   },
   "source": [
    "#### Assessing Data Quality and Integrity"
   ]
  },
  {
   "cell_type": "code",
   "execution_count": 61,
   "id": "483b9a1e-a045-4d29-af11-3109ed322424",
   "metadata": {},
   "outputs": [
    {
     "data": {
      "text/plain": [
       "<bound method NDFrame.describe of      total_bill   tip     sex smoker   day    time  size\n",
       "0         16.99  1.01  Female     No   Sun  Dinner     2\n",
       "1         10.34  1.66    Male     No   Sun  Dinner     3\n",
       "2         21.01  3.50    Male     No   Sun  Dinner     3\n",
       "3         23.68  3.31    Male     No   Sun  Dinner     2\n",
       "4         24.59  3.61  Female     No   Sun  Dinner     4\n",
       "..          ...   ...     ...    ...   ...     ...   ...\n",
       "239       29.03  5.92    Male     No   Sat  Dinner     3\n",
       "240       27.18  2.00  Female    Yes   Sat  Dinner     2\n",
       "241       22.67  2.00    Male    Yes   Sat  Dinner     2\n",
       "242       17.82  1.75    Male     No   Sat  Dinner     2\n",
       "243       18.78  3.00  Female     No  Thur  Dinner     2\n",
       "\n",
       "[244 rows x 7 columns]>"
      ]
     },
     "execution_count": 61,
     "metadata": {},
     "output_type": "execute_result"
    }
   ],
   "source": [
    "df.describe"
   ]
  },
  {
   "cell_type": "markdown",
   "id": "bba1c85a-e19c-47aa-acae-3cc573afe3da",
   "metadata": {
    "tags": []
   },
   "source": [
    "#### Exploratory Data Analysis  for Data Quality Assessment"
   ]
  },
  {
   "cell_type": "code",
   "execution_count": 62,
   "id": "ed58dff6-bc3b-4cc4-b5ed-d7a7f6454eff",
   "metadata": {},
   "outputs": [
    {
     "data": {
      "image/png": "[encoded data removed]",
      "text/plain": [
       "<Figure size 500x500 with 1 Axes>"
      ]
     },
     "metadata": {},
     "output_type": "display_data"
    }
   ],
   "source": [
    "df['total_bill'].hist(bins=50,figsize=(5,5))\n",
    "plt.show()"
   ]
  },
  {
   "cell_type": "markdown",
   "id": "b48f3981-0d29-4348-9e94-048ad015d139",
   "metadata": {
    "tags": []
   },
   "source": [
    "#### Handling Duplicates and Redundant Data"
   ]
  },
  {
   "cell_type": "code",
   "execution_count": 63,
   "id": "789624d3-ff6d-4cac-b128-80b7e2760a43",
   "metadata": {},
   "outputs": [
    {
     "name": "stdout",
     "output_type": "stream",
     "text": [
      "0      False\n",
      "1      False\n",
      "2      False\n",
      "3      False\n",
      "4      False\n",
      "       ...  \n",
      "239    False\n",
      "240    False\n",
      "241    False\n",
      "242    False\n",
      "243    False\n",
      "Length: 244, dtype: bool\n"
     ]
    },
    {
     "data": {
      "text/plain": [
       "(243, 7)"
      ]
     },
     "execution_count": 63,
     "metadata": {},
     "output_type": "execute_result"
    }
   ],
   "source": [
    "Duplicate_rows = df.duplicated()\n",
    "print(Duplicate_rows)\n",
    "\n",
    "df = df.drop_duplicates()\n",
    "df.shape"
   ]
  },
  {
   "cell_type": "markdown",
   "id": "b76d84c6-a354-4c4b-b2fd-712712bef58d",
   "metadata": {
    "tags": []
   },
   "source": [
    "## 3. Handling Missing Data"
   ]
  },
  {
   "cell_type": "markdown",
   "id": "d229c32a-7327-44bf-adfe-6665eaca869c",
   "metadata": {
    "tags": []
   },
   "source": [
    "### Indentifying and Understanding Missing Data"
   ]
  },
  {
   "cell_type": "code",
   "execution_count": 64,
   "id": "ae4927c4-5b0c-485c-9c79-bf4319ddfcb7",
   "metadata": {},
   "outputs": [
    {
     "data": {
      "text/plain": [
       "total_bill    0\n",
       "tip           0\n",
       "sex           0\n",
       "smoker        0\n",
       "day           0\n",
       "time          0\n",
       "size          0\n",
       "dtype: int64"
      ]
     },
     "execution_count": 64,
     "metadata": {},
     "output_type": "execute_result"
    }
   ],
   "source": [
    "df.isnull().sum()"
   ]
  },
  {
   "cell_type": "markdown",
   "id": "75035996-4566-448d-94c4-4fc2d742c377",
   "metadata": {},
   "source": [
    "- Missing Completely at Random (MCAR)\n",
    "- Missing at Random (MAR)\n",
    "- Missing Not at Random (MNAR)"
   ]
  },
  {
   "cell_type": "markdown",
   "id": "4b76475c-1afa-4a26-8b64-07662789f1d2",
   "metadata": {
    "tags": []
   },
   "source": [
    "### Techniques for Handling Missing Data"
   ]
  },
  {
   "cell_type": "markdown",
   "id": "6ed53fdd-95a6-4c7b-a14a-9296acbda079",
   "metadata": {
    "tags": []
   },
   "source": [
    "#### Deletion"
   ]
  },
  {
   "cell_type": "code",
   "execution_count": 65,
   "id": "bbb0b1d7-6c11-4238-b323-7351f9f2bc04",
   "metadata": {},
   "outputs": [
    {
     "name": "stderr",
     "output_type": "stream",
     "text": [
      "<ipython-input-65-b5dde2205341>:1: SettingWithCopyWarning: \n",
      "A value is trying to be set on a copy of a slice from a DataFrame\n",
      "\n",
      "See the caveats in the documentation: https://pandas.pydata.org/pandas-docs/stable/user_guide/indexing.html#returning-a-view-versus-a-copy\n",
      "  df.dropna(inplace=True)\n"
     ]
    },
    {
     "data": {
      "text/html": [
       "<div>\n",
       "<style scoped>\n",
       "    .dataframe tbody tr th:only-of-type {\n",
       "        vertical-align: middle;\n",
       "    }\n",
       "\n",
       "    .dataframe tbody tr th {\n",
       "        vertical-align: top;\n",
       "    }\n",
       "\n",
       "    .dataframe thead th {\n",
       "        text-align: right;\n",
       "    }\n",
       "</style>\n",
       "<table border=\"1\" class=\"dataframe\">\n",
       "  <thead>\n",
       "    <tr style=\"text-align: right;\">\n",
       "      <th></th>\n",
       "      <th>total_bill</th>\n",
       "      <th>tip</th>\n",
       "      <th>sex</th>\n",
       "      <th>smoker</th>\n",
       "      <th>day</th>\n",
       "      <th>time</th>\n",
       "      <th>size</th>\n",
       "    </tr>\n",
       "  </thead>\n",
       "  <tbody>\n",
       "    <tr>\n",
       "      <th>0</th>\n",
       "      <td>16.99</td>\n",
       "      <td>1.01</td>\n",
       "      <td>Female</td>\n",
       "      <td>No</td>\n",
       "      <td>Sun</td>\n",
       "      <td>Dinner</td>\n",
       "      <td>2</td>\n",
       "    </tr>\n",
       "    <tr>\n",
       "      <th>1</th>\n",
       "      <td>10.34</td>\n",
       "      <td>1.66</td>\n",
       "      <td>Male</td>\n",
       "      <td>No</td>\n",
       "      <td>Sun</td>\n",
       "      <td>Dinner</td>\n",
       "      <td>3</td>\n",
       "    </tr>\n",
       "    <tr>\n",
       "      <th>2</th>\n",
       "      <td>21.01</td>\n",
       "      <td>3.50</td>\n",
       "      <td>Male</td>\n",
       "      <td>No</td>\n",
       "      <td>Sun</td>\n",
       "      <td>Dinner</td>\n",
       "      <td>3</td>\n",
       "    </tr>\n",
       "    <tr>\n",
       "      <th>3</th>\n",
       "      <td>23.68</td>\n",
       "      <td>3.31</td>\n",
       "      <td>Male</td>\n",
       "      <td>No</td>\n",
       "      <td>Sun</td>\n",
       "      <td>Dinner</td>\n",
       "      <td>2</td>\n",
       "    </tr>\n",
       "    <tr>\n",
       "      <th>4</th>\n",
       "      <td>24.59</td>\n",
       "      <td>3.61</td>\n",
       "      <td>Female</td>\n",
       "      <td>No</td>\n",
       "      <td>Sun</td>\n",
       "      <td>Dinner</td>\n",
       "      <td>4</td>\n",
       "    </tr>\n",
       "    <tr>\n",
       "      <th>...</th>\n",
       "      <td>...</td>\n",
       "      <td>...</td>\n",
       "      <td>...</td>\n",
       "      <td>...</td>\n",
       "      <td>...</td>\n",
       "      <td>...</td>\n",
       "      <td>...</td>\n",
       "    </tr>\n",
       "    <tr>\n",
       "      <th>239</th>\n",
       "      <td>29.03</td>\n",
       "      <td>5.92</td>\n",
       "      <td>Male</td>\n",
       "      <td>No</td>\n",
       "      <td>Sat</td>\n",
       "      <td>Dinner</td>\n",
       "      <td>3</td>\n",
       "    </tr>\n",
       "    <tr>\n",
       "      <th>240</th>\n",
       "      <td>27.18</td>\n",
       "      <td>2.00</td>\n",
       "      <td>Female</td>\n",
       "      <td>Yes</td>\n",
       "      <td>Sat</td>\n",
       "      <td>Dinner</td>\n",
       "      <td>2</td>\n",
       "    </tr>\n",
       "    <tr>\n",
       "      <th>241</th>\n",
       "      <td>22.67</td>\n",
       "      <td>2.00</td>\n",
       "      <td>Male</td>\n",
       "      <td>Yes</td>\n",
       "      <td>Sat</td>\n",
       "      <td>Dinner</td>\n",
       "      <td>2</td>\n",
       "    </tr>\n",
       "    <tr>\n",
       "      <th>242</th>\n",
       "      <td>17.82</td>\n",
       "      <td>1.75</td>\n",
       "      <td>Male</td>\n",
       "      <td>No</td>\n",
       "      <td>Sat</td>\n",
       "      <td>Dinner</td>\n",
       "      <td>2</td>\n",
       "    </tr>\n",
       "    <tr>\n",
       "      <th>243</th>\n",
       "      <td>18.78</td>\n",
       "      <td>3.00</td>\n",
       "      <td>Female</td>\n",
       "      <td>No</td>\n",
       "      <td>Thur</td>\n",
       "      <td>Dinner</td>\n",
       "      <td>2</td>\n",
       "    </tr>\n",
       "  </tbody>\n",
       "</table>\n",
       "<p>243 rows × 7 columns</p>\n",
       "</div>"
      ],
      "text/plain": [
       "     total_bill   tip     sex smoker   day    time  size\n",
       "0         16.99  1.01  Female     No   Sun  Dinner     2\n",
       "1         10.34  1.66    Male     No   Sun  Dinner     3\n",
       "2         21.01  3.50    Male     No   Sun  Dinner     3\n",
       "3         23.68  3.31    Male     No   Sun  Dinner     2\n",
       "4         24.59  3.61  Female     No   Sun  Dinner     4\n",
       "..          ...   ...     ...    ...   ...     ...   ...\n",
       "239       29.03  5.92    Male     No   Sat  Dinner     3\n",
       "240       27.18  2.00  Female    Yes   Sat  Dinner     2\n",
       "241       22.67  2.00    Male    Yes   Sat  Dinner     2\n",
       "242       17.82  1.75    Male     No   Sat  Dinner     2\n",
       "243       18.78  3.00  Female     No  Thur  Dinner     2\n",
       "\n",
       "[243 rows x 7 columns]"
      ]
     },
     "execution_count": 65,
     "metadata": {},
     "output_type": "execute_result"
    }
   ],
   "source": [
    "df.dropna(inplace=True)\n",
    "df"
   ]
  },
  {
   "cell_type": "markdown",
   "id": "1ad2c5cb-9153-46ee-a028-9c5286968642",
   "metadata": {
    "tags": []
   },
   "source": [
    "#### Imputation"
   ]
  },
  {
   "cell_type": "markdown",
   "id": "ab50656b-8b0e-414d-ac2d-6e78367c5fad",
   "metadata": {
    "tags": []
   },
   "source": [
    "##### Mean/median/mode Imputation"
   ]
  },
  {
   "cell_type": "code",
   "execution_count": 66,
   "id": "d4eec6f9-85d9-4928-be88-8640f92a4a78",
   "metadata": {},
   "outputs": [
    {
     "name": "stderr",
     "output_type": "stream",
     "text": [
      "/opt/apps/anaconda3/2020.11/lib/python3.8/site-packages/pandas/core/series.py:4517: SettingWithCopyWarning: \n",
      "A value is trying to be set on a copy of a slice from a DataFrame\n",
      "\n",
      "See the caveats in the documentation: https://pandas.pydata.org/pandas-docs/stable/user_guide/indexing.html#returning-a-view-versus-a-copy\n",
      "  return super().fillna(\n"
     ]
    }
   ],
   "source": [
    "df[\"total_bill\"].fillna(df[\"total_bill\"].mean(), inplace=True)\n",
    "df[\"total_bill\"].fillna(df[\"total_bill\"].mode(), inplace=True)\n",
    "df[\"total_bill\"].fillna(df[\"total_bill\"].median(), inplace=True)"
   ]
  },
  {
   "cell_type": "markdown",
   "id": "2e85d3d4-540d-477f-b2ec-9736d4d5a6af",
   "metadata": {
    "tags": []
   },
   "source": [
    "##### Constant Value imputation"
   ]
  },
  {
   "cell_type": "code",
   "execution_count": 67,
   "id": "8da8ca52-5a2e-41f0-9391-16865439558a",
   "metadata": {},
   "outputs": [],
   "source": [
    "df[\"total_bill\"].fillna(0,inplace=True)"
   ]
  },
  {
   "cell_type": "markdown",
   "id": "8af06a2c-9166-45d1-88a4-ed5156ec653b",
   "metadata": {
    "jp-MarkdownHeadingCollapsed": true,
    "tags": []
   },
   "source": [
    "##### Predictive imputation"
   ]
  },
  {
   "cell_type": "markdown",
   "id": "e2ae7f36-b757-4036-94ba-094769b04b72",
   "metadata": {},
   "source": [
    "This technique involves using statistical models or machine learning\n",
    "algorithms to predict missing values based on other data. It's more accurate but also more\n",
    "complex  (linear regression)"
   ]
  },
  {
   "cell_type": "markdown",
   "id": "b7319815-ab70-4bf5-97e7-d80a92d43700",
   "metadata": {
    "tags": []
   },
   "source": [
    "##### Introduction to pandas for missing Data Handling"
   ]
  },
  {
   "cell_type": "code",
   "execution_count": 68,
   "id": "4bc6317b-d49c-41bc-aad6-278ba1a4d660",
   "metadata": {},
   "outputs": [],
   "source": [
    "df[\"total_bill\"].fillna(method='ffill',inplace=True)\n",
    "df[\"total_bill\"].fillna(method='bfill',inplace=True)"
   ]
  },
  {
   "cell_type": "markdown",
   "id": "6074a6c7-6291-4f8c-acc1-ef56436ed6cb",
   "metadata": {
    "tags": []
   },
   "source": [
    "### Advanced Missing Data Handling Techniques"
   ]
  },
  {
   "cell_type": "markdown",
   "id": "899432f1-fb18-43fc-95df-e19823985c31",
   "metadata": {
    "tags": []
   },
   "source": [
    "#### Multiple Imputation"
   ]
  },
  {
   "cell_type": "code",
   "execution_count": 69,
   "id": "5dce510b-13b2-47c3-b6a2-c25827e59885",
   "metadata": {},
   "outputs": [],
   "source": [
    "from sklearn.experimental import enable_iterative_imputer\n",
    "from sklearn.impute import IterativeImputer\n",
    "\n",
    "\n",
    "mice_imputer = IterativeImputer()\n",
    "\n",
    "#df = mice_imputer.fit_transform(df)"
   ]
  },
  {
   "cell_type": "markdown",
   "id": "a1155f73-f2c9-44fe-b6c8-3376883b4a4b",
   "metadata": {
    "tags": []
   },
   "source": [
    "## 4. Dealing with Outliers"
   ]
  },
  {
   "cell_type": "markdown",
   "id": "20687329-e422-41fc-a54f-e1049ff7d2cf",
   "metadata": {
    "tags": []
   },
   "source": [
    "#### Understanding Outliers and their impact"
   ]
  },
  {
   "cell_type": "code",
   "execution_count": 70,
   "id": "c9e85cd8-c8c6-4cd8-89c9-68ca57477022",
   "metadata": {},
   "outputs": [
    {
     "data": {
      "text/plain": [
       "3.0023868312757203"
      ]
     },
     "execution_count": 70,
     "metadata": {},
     "output_type": "execute_result"
    }
   ],
   "source": [
    "df['tip'].mean()"
   ]
  },
  {
   "cell_type": "code",
   "execution_count": 71,
   "id": "5efb7be7-d931-49d9-8ca1-4ea90aff14cf",
   "metadata": {},
   "outputs": [
    {
     "data": {
      "text/plain": [
       "0    2.0\n",
       "dtype: float64"
      ]
     },
     "execution_count": 71,
     "metadata": {},
     "output_type": "execute_result"
    }
   ],
   "source": [
    "df['tip'].mode()"
   ]
  },
  {
   "cell_type": "code",
   "execution_count": 72,
   "id": "e0c9ac02-6400-4689-8a11-ee0d133e214c",
   "metadata": {},
   "outputs": [
    {
     "data": {
      "text/plain": [
       "1.4598015326171103"
      ]
     },
     "execution_count": 72,
     "metadata": {},
     "output_type": "execute_result"
    }
   ],
   "source": [
    "df['tip'].skew()"
   ]
  },
  {
   "cell_type": "code",
   "execution_count": 73,
   "id": "50c09018-abfd-4898-b8f2-579cda7a18ba",
   "metadata": {},
   "outputs": [
    {
     "data": {
      "text/plain": [
       "1.3850020372301455"
      ]
     },
     "execution_count": 73,
     "metadata": {},
     "output_type": "execute_result"
    }
   ],
   "source": [
    "df['tip'].std()"
   ]
  },
  {
   "cell_type": "code",
   "execution_count": 74,
   "id": "97785e1f-1d68-4709-a613-a6caf5d6b4c2",
   "metadata": {},
   "outputs": [
    {
     "name": "stdout",
     "output_type": "stream",
     "text": [
      "2.0\n",
      "2.92\n",
      "3.575\n",
      "10.0\n"
     ]
    }
   ],
   "source": [
    "quantiles = [0.25,0.5,0.75,1]\n",
    "for quant in quantiles:\n",
    "    print(df['tip'].quantile(quant))"
   ]
  },
  {
   "cell_type": "markdown",
   "id": "1ccd9fb0-7d30-4882-9844-3083bf779e84",
   "metadata": {
    "tags": []
   },
   "source": [
    "#### Outlier Dectection Techniques"
   ]
  },
  {
   "cell_type": "markdown",
   "id": "07a193be-545e-4834-a9c5-1fac2de262e7",
   "metadata": {
    "tags": []
   },
   "source": [
    "##### Statistical Methods"
   ]
  },
  {
   "cell_type": "markdown",
   "id": "aeb55290-c2be-40e2-b3dd-20443b8e2be1",
   "metadata": {
    "tags": []
   },
   "source": [
    "###### Z-score:"
   ]
  },
  {
   "cell_type": "code",
   "execution_count": 75,
   "id": "f3509a3c-1389-4542-8af9-238fe428fc3c",
   "metadata": {},
   "outputs": [
    {
     "data": {
      "text/plain": [
       "array([500])"
      ]
     },
     "execution_count": 75,
     "metadata": {},
     "output_type": "execute_result"
    }
   ],
   "source": [
    "from scipy import stats\n",
    "\n",
    "outlier_data = np.array([10, 20, 30, 40, 500])\n",
    "z_scores = np.abs(stats.zscore(outlier_data))\n",
    "outliers =outlier_data[z_scores > 1]\n",
    "outliers"
   ]
  },
  {
   "cell_type": "markdown",
   "id": "58711a65-d501-482d-9a03-a6254cb7aa93",
   "metadata": {
    "tags": []
   },
   "source": [
    "###### IQR method:"
   ]
  },
  {
   "cell_type": "code",
   "execution_count": 76,
   "id": "b38397d9-3e2e-4510-ab45-b4db8b6a84f1",
   "metadata": {},
   "outputs": [
    {
     "data": {
      "text/plain": [
       "array([500])"
      ]
     },
     "execution_count": 76,
     "metadata": {},
     "output_type": "execute_result"
    }
   ],
   "source": [
    "Q1 = np.percentile(outlier_data, 25)\n",
    "Q3 = np.percentile(outlier_data, 75)\n",
    "\n",
    "IQR = Q3 - Q1\n",
    "\n",
    "Condition = ((outlier_data < (Q1 -1.5 * IQR)) | (outlier_data > (Q3+1.5*IQR)))\n",
    "outliers = outlier_data[Condition]\n",
    "outliers"
   ]
  },
  {
   "cell_type": "markdown",
   "id": "e9cd1e38-ed31-4f12-849c-ef0f9bb77468",
   "metadata": {
    "tags": []
   },
   "source": [
    "#####  Visualization"
   ]
  },
  {
   "cell_type": "markdown",
   "id": "3ba81b89-3999-4c78-9662-3a4d9d48049c",
   "metadata": {
    "tags": []
   },
   "source": [
    "###### Boxplot"
   ]
  },
  {
   "cell_type": "code",
   "execution_count": 77,
   "id": "737adbda-5b76-4be4-a2d9-82d6cacb19dc",
   "metadata": {},
   "outputs": [
    {
     "data": {
      "image/png": "[encoded data removed]",
      "text/plain": [
       "<Figure size 640x480 with 1 Axes>"
      ]
     },
     "metadata": {},
     "output_type": "display_data"
    }
   ],
   "source": [
    "plt.boxplot(outlier_data)\n",
    "plt.show()"
   ]
  },
  {
   "cell_type": "markdown",
   "id": "eb0f6047-098e-413d-a0f4-2af9511ee855",
   "metadata": {
    "tags": []
   },
   "source": [
    "###### Scatter Plot"
   ]
  },
  {
   "cell_type": "code",
   "execution_count": 78,
   "id": "34d83100-8dc7-4d9a-a53e-4480902d051f",
   "metadata": {},
   "outputs": [
    {
     "data": {
      "image/png": "[encoded data removed]",
      "text/plain": [
       "<Figure size 640x480 with 1 Axes>"
      ]
     },
     "metadata": {},
     "output_type": "display_data"
    }
   ],
   "source": [
    "plt.scatter(range(len(outlier_data)),outlier_data)\n",
    "plt.show()"
   ]
  },
  {
   "cell_type": "markdown",
   "id": "41966a06-2313-45e6-8cb2-4a4763072abf",
   "metadata": {
    "tags": []
   },
   "source": [
    "##### Machine Learning "
   ]
  },
  {
   "cell_type": "code",
   "execution_count": 79,
   "id": "3ee5762e-2803-4d27-8d8d-e3f36d224351",
   "metadata": {},
   "outputs": [
    {
     "data": {
      "text/plain": [
       "array([500])"
      ]
     },
     "execution_count": 79,
     "metadata": {},
     "output_type": "execute_result"
    }
   ],
   "source": [
    "from sklearn .ensemble import IsolationForest\n",
    "\n",
    "clf = IsolationForest()\n",
    "\n",
    "pred = clf.fit_predict(outlier_data.reshape(-1,1))\n",
    "outliers = outlier_data[pred == -1]\n",
    "outliers"
   ]
  },
  {
   "cell_type": "markdown",
   "id": "1b2eeec4-f56b-4431-bed7-a1cb7a34c1ca",
   "metadata": {
    "tags": []
   },
   "source": [
    "#### Strategies for Handling Outliers"
   ]
  },
  {
   "cell_type": "markdown",
   "id": "7e620e5f-182d-4fcf-b6ca-26243bba05e7",
   "metadata": {
    "tags": []
   },
   "source": [
    "#####   Deletion\n"
   ]
  },
  {
   "cell_type": "code",
   "execution_count": 80,
   "id": "11957192-3e47-4108-8b08-72fa47a02b1b",
   "metadata": {},
   "outputs": [
    {
     "data": {
      "text/plain": [
       "array([ 10,  20,  30,  40, 500])"
      ]
     },
     "execution_count": 80,
     "metadata": {},
     "output_type": "execute_result"
    }
   ],
   "source": [
    "filtered_data = outlier_data[(z_scores<=30)]\n",
    "filtered_data"
   ]
  },
  {
   "cell_type": "markdown",
   "id": "1ae3ae35-a1e8-44d4-a71c-ce648870802f",
   "metadata": {
    "tags": []
   },
   "source": [
    "##### Transformation"
   ]
  },
  {
   "cell_type": "code",
   "execution_count": 81,
   "id": "0941d8d0-b239-4750-85da-2490378ded69",
   "metadata": {},
   "outputs": [
    {
     "data": {
      "text/plain": [
       "array([2.30258509, 2.99573227, 3.40119738, 3.68887945, 6.2146081 ])"
      ]
     },
     "execution_count": 81,
     "metadata": {},
     "output_type": "execute_result"
    }
   ],
   "source": [
    "log_data = np.log(outlier_data)\n",
    "log_data"
   ]
  },
  {
   "cell_type": "markdown",
   "id": "fac26c0c-0ce4-4c1f-b374-e811aca52d96",
   "metadata": {},
   "source": [
    "##### Machine Learning Models"
   ]
  },
  {
   "cell_type": "markdown",
   "id": "2ec0fa82-7f8b-47ca-93d2-fea6ced1dffa",
   "metadata": {},
   "source": [
    "Some machine learning models, like Random Forests and SVMs, are less sensitive to outliers.\n",
    "Using these models could be a viable strategy when dealing with outliers."
   ]
  },
  {
   "cell_type": "markdown",
   "id": "1d9070a9-f719-4637-a2a5-4072c1d8e6be",
   "metadata": {
    "tags": []
   },
   "source": [
    "## 5. Data Normalization and Scaling"
   ]
  },
  {
   "cell_type": "markdown",
   "id": "cdaf9ab5-8748-44b2-b132-b6444f94c6d8",
   "metadata": {
    "tags": []
   },
   "source": [
    "#### Techniques for Data Normalization"
   ]
  },
  {
   "cell_type": "markdown",
   "id": "511d5597-71fc-4d6d-ab93-3265d368f354",
   "metadata": {
    "tags": []
   },
   "source": [
    "##### Min-Max Scaling"
   ]
  },
  {
   "cell_type": "code",
   "execution_count": 82,
   "id": "44cb6900-9843-45a0-9ecd-57513eb2747d",
   "metadata": {},
   "outputs": [
    {
     "name": "stdout",
     "output_type": "stream",
     "text": [
      "[[ 1]\n",
      " [ 2]\n",
      " [ 3]\n",
      " [ 4]\n",
      " [ 5]\n",
      " [ 6]\n",
      " [ 7]\n",
      " [ 8]\n",
      " [ 9]\n",
      " [10]]\n",
      "[[0.        ]\n",
      " [0.11111111]\n",
      " [0.22222222]\n",
      " [0.33333333]\n",
      " [0.44444444]\n",
      " [0.55555556]\n",
      " [0.66666667]\n",
      " [0.77777778]\n",
      " [0.88888889]\n",
      " [1.        ]]\n"
     ]
    }
   ],
   "source": [
    "from sklearn.preprocessing import MinMaxScaler\n",
    "\n",
    "data = np.array([1,2,3,4,5,6,7,8,9,10]).reshape(-1,1) # column wise\n",
    "print(data)\n",
    "scaler = MinMaxScaler()\n",
    "normalized_data = scaler.fit_transform(data)\n",
    "print(normalized_data)"
   ]
  },
  {
   "cell_type": "markdown",
   "id": "6beedee7-980c-4c27-a205-15bb8e8b6474",
   "metadata": {
    "tags": []
   },
   "source": [
    "##### Z-Score Normalization"
   ]
  },
  {
   "cell_type": "code",
   "execution_count": 83,
   "id": "5dd4c5c6-a41c-42d8-8568-40e88337a0cc",
   "metadata": {},
   "outputs": [
    {
     "name": "stdout",
     "output_type": "stream",
     "text": [
      "[[-1.5666989 ]\n",
      " [-1.21854359]\n",
      " [-0.87038828]\n",
      " [-0.52223297]\n",
      " [-0.17407766]\n",
      " [ 0.17407766]\n",
      " [ 0.52223297]\n",
      " [ 0.87038828]\n",
      " [ 1.21854359]\n",
      " [ 1.5666989 ]]\n"
     ]
    }
   ],
   "source": [
    "from sklearn.preprocessing import StandardScaler\n",
    "\n",
    "scaler = StandardScaler()\n",
    "standardized_data = scaler.fit_transform(data)\n",
    "print(standardized_data)"
   ]
  },
  {
   "cell_type": "markdown",
   "id": "86a38462-6bc7-4a87-b621-7d6e7f8d67ef",
   "metadata": {
    "jp-MarkdownHeadingCollapsed": true,
    "tags": []
   },
   "source": [
    "##### Feature Scaling Techniques"
   ]
  },
  {
   "cell_type": "markdown",
   "id": "ce5cb00d-518c-48bc-bda4-57f27910740d",
   "metadata": {},
   "source": [
    "Feature scaling is an umbrella term for techniques that change the range of a feature. In\n",
    "addition to the aforementioned normalization techniques, the following methods are also used\n",
    "for feature scaling:"
   ]
  },
  {
   "cell_type": "markdown",
   "id": "9301fb0d-9e35-403e-bbcb-7a3b46c2f1e1",
   "metadata": {
    "tags": []
   },
   "source": [
    "##### Robust Scaling"
   ]
  },
  {
   "cell_type": "code",
   "execution_count": 84,
   "id": "720d1287-1261-4306-9251-3f7dd807b660",
   "metadata": {},
   "outputs": [
    {
     "name": "stdout",
     "output_type": "stream",
     "text": [
      "[[-1. ]\n",
      " [-0.8]\n",
      " [-0.6]\n",
      " [-0.4]\n",
      " [-0.2]\n",
      " [ 0. ]\n",
      " [ 0.2]\n",
      " [ 0.4]\n",
      " [ 0.6]\n",
      " [ 0.8]\n",
      " [58.8]]\n"
     ]
    }
   ],
   "source": [
    "from sklearn.preprocessing import RobustScaler\n",
    "\n",
    "data = np.array([1,2,3,4,5,6,7,8,9,10,300]).reshape(-1,1)\n",
    "\n",
    "scaler = RobustScaler()\n",
    "\n",
    "roubust_scaled_data = scaler.fit_transform(data)\n",
    "\n",
    "print(roubust_scaled_data)"
   ]
  },
  {
   "cell_type": "markdown",
   "id": "193d7555-3c97-448a-8366-b26cdc74eac3",
   "metadata": {},
   "source": [
    "## 6 . Feature Selection and Extraction "
   ]
  },
  {
   "cell_type": "markdown",
   "id": "3dda336f-ebe7-44ef-84c9-39358226aa9e",
   "metadata": {},
   "source": [
    "#### Techniques for Feature Selection"
   ]
  },
  {
   "cell_type": "markdown",
   "id": "cc3ced7b-b57f-410f-a1b3-076a86fec23c",
   "metadata": {
    "jp-MarkdownHeadingCollapsed": true,
    "tags": []
   },
   "source": [
    "##### Filter Methods"
   ]
  },
  {
   "cell_type": "code",
   "execution_count": 110,
   "id": "cc14c510-307a-4042-88f1-371ca6b55a57",
   "metadata": {},
   "outputs": [
    {
     "name": "stdout",
     "output_type": "stream",
     "text": [
      "[[1.4 0.2]\n",
      " [1.4 0.2]\n",
      " [1.3 0.2]\n",
      " [1.5 0.2]\n",
      " [1.4 0.2]]\n"
     ]
    }
   ],
   "source": [
    "from sklearn.feature_selection import SelectKBest,chi2\n",
    "from sklearn.datasets import load_iris\n",
    "\n",
    "iris = load_iris()\n",
    "x,y = iris.data, iris.target\n",
    "\n",
    "x_new = SelectKBest(chi2,k=2).fit_transform(x,y)\n",
    "\n",
    "print(x_new[:5])"
   ]
  },
  {
   "cell_type": "markdown",
   "id": "706fff4c-b53c-4311-a020-d45cb7f73f18",
   "metadata": {
    "jp-MarkdownHeadingCollapsed": true,
    "tags": []
   },
   "source": [
    "##### Wrapper Methods"
   ]
  },
  {
   "cell_type": "code",
   "execution_count": 97,
   "id": "2fd25fb4-ef21-4a2a-931e-342f363a4d3c",
   "metadata": {},
   "outputs": [
    {
     "name": "stdout",
     "output_type": "stream",
     "text": [
      "Selected Data:\n",
      "[[1.4 0.2]\n",
      " [1.4 0.2]\n",
      " [1.3 0.2]\n",
      " [1.5 0.2]\n",
      " [1.4 0.2]]\n"
     ]
    }
   ],
   "source": [
    "from sklearn.feature_selection import RFE\n",
    "from sklearn.svm import SVR\n",
    "from sklearn.datasets import load_iris\n",
    "\n",
    "iris = load_iris()\n",
    "x, y = iris.data, iris.target\n",
    "\n",
    "estimator = SVR(kernel='linear')\n",
    "selector = RFE(estimator, n_features_to_select=2, step=2)\n",
    "selector = selector.fit(x, y)\n",
    "\n",
    "selected_indices = selector.support_\n",
    "selected_data = x[:5, selected_indices]\n",
    "\n",
    "print(\"Selected Data:\")\n",
    "print(selected_data)\n"
   ]
  },
  {
   "cell_type": "markdown",
   "id": "c3941fe5-217f-45c1-940b-8ee41ec1c2e9",
   "metadata": {
    "jp-MarkdownHeadingCollapsed": true,
    "tags": []
   },
   "source": [
    "##### Embedded Methods"
   ]
  },
  {
   "cell_type": "code",
   "execution_count": 109,
   "id": "fa079a24-a6b6-49ef-b856-530d24a6c820",
   "metadata": {},
   "outputs": [
    {
     "data": {
      "text/plain": [
       "array([2.04146388e+01, 0.00000000e+00, 0.00000000e+00, 0.00000000e+00,\n",
       "       9.15811805e-03])"
      ]
     },
     "execution_count": 109,
     "metadata": {},
     "output_type": "execute_result"
    }
   ],
   "source": [
    "from sklearn.linear_model import LassoCV\n",
    "from sklearn.datasets import make_regression\n",
    "\n",
    "x,y = make_regression(noise=4)\n",
    "\n",
    "lasso = LassoCV().fit(x,y)\n",
    "importance = np.abs(lasso.coef_)\n",
    "importance[:5]"
   ]
  },
  {
   "cell_type": "markdown",
   "id": "7deee937-ba43-4348-b5cf-ab886e6d8692",
   "metadata": {},
   "source": [
    "#### Feature Extraction Methods"
   ]
  },
  {
   "cell_type": "markdown",
   "id": "c6be1f49-1b51-48ac-b8b1-e4b9d386016f",
   "metadata": {},
   "source": [
    "##### Principal Component Analysis"
   ]
  },
  {
   "cell_type": "code",
   "execution_count": 115,
   "id": "a63586f8-bbac-4838-b13a-44fc7d69ab5b",
   "metadata": {},
   "outputs": [
    {
     "name": "stdout",
     "output_type": "stream",
     "text": [
      "[[5.1 3.5 1.4 0.2]\n",
      " [4.9 3.  1.4 0.2]\n",
      " [4.7 3.2 1.3 0.2]\n",
      " [4.6 3.1 1.5 0.2]\n",
      " [5.  3.6 1.4 0.2]]\n"
     ]
    }
   ],
   "source": [
    "from sklearn.decomposition import PCA\n",
    "\n",
    "pca = PCA(n_components=2)\n",
    "\n",
    "x_pca = pca.fit_transform(x)\n",
    "print(x[:5])"
   ]
  },
  {
   "cell_type": "markdown",
   "id": "7050b61b-1218-4773-93c9-5fa0e96c1558",
   "metadata": {},
   "source": [
    "#####  T-Distributed Stochastic Neighbor Emdedding "
   ]
  },
  {
   "cell_type": "code",
   "execution_count": 116,
   "id": "67be0a9f-a12d-4138-a91f-6a962b83ee59",
   "metadata": {},
   "outputs": [
    {
     "name": "stdout",
     "output_type": "stream",
     "text": [
      "[[-16.6989   -16.105661]\n",
      " [-16.544397 -18.945751]\n",
      " [-15.456986 -18.340258]\n",
      " [-15.651502 -18.903847]\n",
      " [-16.289274 -15.969597]]\n"
     ]
    }
   ],
   "source": [
    "from sklearn.manifold import TSNE\n",
    "\n",
    "x_tsne = TSNE(n_components=2).fit_transform(x)\n",
    "print(x_tsne[:5])"
   ]
  },
  {
   "cell_type": "code",
   "execution_count": null,
   "id": "b3bb7b38-361f-4a1e-9148-aeedf3687fe6",
   "metadata": {},
   "outputs": [],
   "source": []
  }
 ],
 "metadata": {
  "kernelspec": {
   "display_name": "Python 3",
   "language": "python",
   "name": "python3"
  },
  "language_info": {
   "codemirror_mode": {
    "name": "ipython",
    "version": 3
   },
   "file_extension": ".py",
   "mimetype": "text/x-python",
   "name": "python",
   "nbconvert_exporter": "python",
   "pygments_lexer": "ipython3",
   "version": "3.8.5"
  }
 },
 "nbformat": 4,
 "nbformat_minor": 5
}
